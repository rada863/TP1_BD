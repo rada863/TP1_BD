{
  "cells": [
    {
      "cell_type": "markdown",
      "source": [
        "# Código de inicialización\n",
        "Este código permite inicializar las bibliotecas para usar SQLite en la máquina virtual de Google Colab. El código además elimina cualquier dato almacenado anteriormente en el archvio `ejemplos.db`. Es recomendable volver a correr el código cada vez que se comience con la resolución de un nuevo ejercicio."
      ],
      "metadata": {
        "id": "QuMn1Lbbdz7p"
      },
      "id": "QuMn1Lbbdz7p"
    },
    {
      "cell_type": "code",
      "execution_count": 50,
      "metadata": {
        "id": "IFHmq0oNKLZQ",
        "colab": {
          "base_uri": "https://localhost:8080/"
        },
        "outputId": "f219c585-eb43-4c99-d37a-c0cbc077a5b4"
      },
      "outputs": [
        {
          "output_type": "stream",
          "name": "stdout",
          "text": [
            "Requirement already satisfied: pymysql in /usr/local/lib/python3.10/dist-packages (1.1.1)\n",
            "The sql extension is already loaded. To reload it, use:\n",
            "  %reload_ext sql\n"
          ]
        }
      ],
      "source": [
        "!pip install pymysql\n",
        "%load_ext sql\n",
        "!rm -rf ejemplos.db\n",
        "%sql sqlite:///ejemplos.db"
      ],
      "id": "IFHmq0oNKLZQ"
    },
    {
      "cell_type": "markdown",
      "id": "4bfd6149",
      "metadata": {
        "id": "4bfd6149"
      },
      "source": [
        "# TP2: Ejercicios de SQL"
      ]
    },
    {
      "cell_type": "markdown",
      "id": "75f13c80",
      "metadata": {
        "id": "75f13c80"
      },
      "source": [
        "\n",
        "## EJERCICIO 1:  Base de datos para un club náutico\n",
        "\n",
        "### Descripción:\n",
        "Se quiere diseñar una base de datos relacional para gestionar los datos de los socios de un club náutico. De cada socio se guardan los datos personales y la información de los barcos que posee:\n",
        "- Número de matrícula, nombre, número de amarre, cuota.\n",
        "\n",
        "Además, se almacena información sobre las salidas realizadas por cada barco:\n",
        "- Fecha y hora de salida, destino y datos del patrón (que no tiene que ser el propietario ni un socio del club).\n",
        "\n",
        "### Esquema propuesto:\n",
        "- Tabla `Socios`: Almacena la información de los socios del club.\n",
        "- Tabla `Barcos`: Almacena la información de los barcos y sus propietarios.\n",
        "- Tabla `Salidas`: Almacena la información de las salidas realizadas por los barcos.\n",
        "\n",
        "### Esquema de tablas\n",
        "Este sería el esquema de tablas en lenguaje DBML\n",
        "\n",
        "```dbml\n",
        "Table Socios {\n",
        "    id_socio INT [pk]\n",
        "    nombre VARCHAR(100)\n",
        "    direccion VARCHAR(255)\n",
        "}\n",
        "\n",
        "Table Barcos {\n",
        "    matricula VARCHAR(20) [pk]\n",
        "    nombre VARCHAR(100)\n",
        "    numero_amarre INT\n",
        "    cuota DECIMAL(10, 2)\n",
        "    id_socio INT [ref: > Socios.id_socio]\n",
        "}\n",
        "\n",
        "Table Salidas {\n",
        "    id_salida INT [pk]\n",
        "    matricula VARCHAR(20) [ref: > Barcos.matricula]\n",
        "    fecha_salida DATE\n",
        "    hora_salida TIME\n",
        "-    destino VARCHAR(100)\n",
        "    patron_nombre VARCHAR(100)\n",
        "    patron_direccion VARCHAR(255)\n",
        "}\n",
        "```\n",
        "\n",
        "### Escriba abajo el código SQL necesario para crear las tablas:\n",
        "\n"
      ]
    },
    {
      "cell_type": "code",
      "source": [
        "%%sql\n",
        "CREATE TABLE Socios (\n",
        "  id_socio INTEGER PRIMARY KEY ,\n",
        "  nombre VARCHAR(100) NOT NULL,\n",
        "  direccion VARCHAR(255) NOT NULL\n",
        ");\n",
        "\n",
        "CREATE TABLE Barcos (\n",
        "  matricula VARCHAR(20) PRIMARY KEY,\n",
        "  nombre VARCHAR(100) NOT NULL,\n",
        "  numero_amarre INTEGER,\n",
        "  cuota DECIMAL(10, 2) NOT NULL,\n",
        "  id_socio INTEGER,\n",
        "  FOREIGN KEY (id_socio) REFERENCES Socios(id_socio)\n",
        ");\n",
        "\n",
        "CREATE TABLE Salidas (\n",
        "  id_salida INTEGER PRIMARY KEY,\n",
        "  matricula VARCHAR(20),\n",
        "  fecha_salida DATE NOT NULL,\n",
        "  hora_salida TIME,\n",
        "  destino VARCHAR(100) NOT NULL,\n",
        "  patron_nombre VARCHAR(100),\n",
        "  patron_direccion VARCHAR(255),\n",
        "  FOREIGN KEY (matricula) REFERENCES Barcos(matricula)\n",
        ");\n",
        "\n",
        "\n"
      ],
      "metadata": {
        "id": "WQJ1ZlDikHxc",
        "colab": {
          "base_uri": "https://localhost:8080/"
        },
        "outputId": "a0460c5a-28b2-44f4-b710-bc7307350437"
      },
      "id": "WQJ1ZlDikHxc",
      "execution_count": 51,
      "outputs": [
        {
          "output_type": "stream",
          "name": "stdout",
          "text": [
            " * sqlite:///ejemplos.db\n",
            "(sqlite3.OperationalError) table Socios already exists\n",
            "[SQL: CREATE TABLE Socios (\n",
            "  id_socio INTEGER PRIMARY KEY ,\n",
            "  nombre VARCHAR(100) NOT NULL,\n",
            "  direccion VARCHAR(255) NOT NULL\n",
            ");]\n",
            "(Background on this error at: https://sqlalche.me/e/20/e3q8)\n"
          ]
        }
      ]
    },
    {
      "cell_type": "markdown",
      "source": [
        "El código SQL de abajo le permite popular (es decir, rellenar) las tablas con datos."
      ],
      "metadata": {
        "id": "CvWQCFgMw6Aw"
      },
      "id": "CvWQCFgMw6Aw"
    },
    {
      "cell_type": "markdown",
      "source": [
        "### Resolver estas consignas:\n",
        "1. ¿Qué socios tienen barcos amarrados en un número de amarre mayor que 10?"
      ],
      "metadata": {
        "id": "0ofA3-cklW_5"
      },
      "id": "0ofA3-cklW_5"
    },
    {
      "cell_type": "code",
      "source": [
        "%%sql\n",
        "\n",
        "INSERT OR REPLACE INTO Socios (id_socio, nombre, direccion) VALUES\n",
        "(1, 'Juan Pérez', 'Calle Mayor 1, Madrid'),\n",
        "(2, 'Ana García', 'Calle Luna 5, Barcelona'),\n",
        "(3, 'Luis Fernández', 'Avenida del Sol 10, Valencia'),\n",
        "(4, 'Laura Sánchez', 'Plaza del Mar 3, Alicante'),\n",
        "(5, 'Carlos López', 'Calle Río 8, Sevilla'),\n",
        "(6, 'Marta Díaz', 'Calle de la Sierra 12, Zaragoza'),\n",
        "(7, 'Pedro Gómez', 'Calle Nueva 20, Bilbao'),\n",
        "(8, 'Lucía Jiménez', 'Calle Real 30, Madrid'),\n",
        "(9, 'María Torres', 'Calle Verde 15, Málaga'),\n",
        "(10, 'Fernando Martín', 'Calle Azul 25, Murcia');\n",
        "\n",
        "\n",
        "INSERT OR REPLACE INTO Barcos (matricula,nombre, numero_amarre, cuota, id_socio) VALUES\n",
        "\n",
        "\n",
        "('ABC123', 'El Viento', 12, 600.50, 1),\n",
        "('DEF456', 'La Brisa', 8, 450.00, 2),\n",
        "('GHI789', 'El Sol', 15, 700.00, 3),\n",
        "('JKL012', 'El Mar', 10, 550.75, 4),\n",
        "('MNO345', 'La Luna', 18, 620.30, 5),\n",
        "('PQR678', 'El Horizonte', 20, 780.90, 6),\n",
        "('STU901', 'El Amanecer', 5, 400.00, 7),\n",
        "('VWX234', 'La Estrella', 7, 520.50, 8),\n",
        "('YZA567', 'La Marea', 14, 480.75, 9),\n",
        "('BCD890', 'El Océano', 6, 630.80, 10);\n",
        "\n",
        "INSERT  INTO Salidas (id_salida, matricula, fecha_salida, hora_salida,\n",
        "destino, patron_nombre, patron_direccion)\n",
        "VALUES\n",
        "(1, 'ABC123', '2023-07-15', '10:30:00', 'Mallorca', 'Patrón 1', 'Calle de la Playa 1, Palma'),\n",
        "(2, 'DEF456', '2023-07-20', '09:00:00', 'Ibiza', 'Patrón 2', 'Avenida del Puerto 3, Valencia'),\n",
        "(3, 'GHI789', '2023-07-22', '08:45:00', 'Menorca', 'Patrón 3', 'Calle de la Costa 10, Alicante'),\n",
        "(4, 'JKL012', '2023-07-25', '11:15:00', 'Mallorca', 'Patrón 4', 'Plaza del Faro 5, Barcelona'),\n",
        "(5, 'MNO345', '2023-08-01', '14:00:00', 'Formentera', 'Patrón 5', 'Calle del Puerto 20, Ibiza'),\n",
        "(6, 'PQR678', '2023-08-05', '07:30:00', 'Mallorca', 'Patrón 6', 'Calle de las Olas 15, Palma'),\n",
        "(7, 'STU901', '2023-08-10', '12:00:00', 'Ibiza', 'Patrón 7', 'Avenida de la Marina 7, Barcelona'),\n",
        "(8, 'VWX234', '2023-08-12', '09:30:00', 'Cabrera', 'Patrón 8', 'Calle del Mar 12, Alicante'),\n",
        "(9, 'YZA567', '2023-08-15', '10:00:00', 'Formentera', 'Patrón 9', 'Calle del Sol 4, Ibiza'),\n",
        "(10, 'BCD890', '2023-08-20', '08:00:00', 'Menorca', 'Patrón 10', 'Plaza del Faro 2, Palma');\n"
      ],
      "metadata": {
        "id": "mGeEPoC8luIN",
        "colab": {
          "base_uri": "https://localhost:8080/"
        },
        "outputId": "96fae53d-5127-4559-d553-0f0de93e7e6a"
      },
      "id": "mGeEPoC8luIN",
      "execution_count": 52,
      "outputs": [
        {
          "output_type": "stream",
          "name": "stdout",
          "text": [
            " * sqlite:///ejemplos.db\n",
            "(sqlite3.OperationalError) attempt to write a readonly database\n",
            "[SQL: INSERT OR REPLACE INTO Socios (id_socio, nombre, direccion) VALUES\n",
            "(1, 'Juan Pérez', 'Calle Mayor 1, Madrid'),\n",
            "(2, 'Ana García', 'Calle Luna 5, Barcelona'),\n",
            "(3, 'Luis Fernández', 'Avenida del Sol 10, Valencia'),\n",
            "(4, 'Laura Sánchez', 'Plaza del Mar 3, Alicante'),\n",
            "(5, 'Carlos López', 'Calle Río 8, Sevilla'),\n",
            "(6, 'Marta Díaz', 'Calle de la Sierra 12, Zaragoza'),\n",
            "(7, 'Pedro Gómez', 'Calle Nueva 20, Bilbao'),\n",
            "(8, 'Lucía Jiménez', 'Calle Real 30, Madrid'),\n",
            "(9, 'María Torres', 'Calle Verde 15, Málaga'),\n",
            "(10, 'Fernando Martín', 'Calle Azul 25, Murcia');]\n",
            "(Background on this error at: https://sqlalche.me/e/20/e3q8)\n"
          ]
        }
      ]
    },
    {
      "cell_type": "markdown",
      "source": [
        "2. ¿Cuáles son los nombres de los barcos y sus cuotas de aquellos barcos cuyo socio se llama 'Juan Pérez'?"
      ],
      "metadata": {
        "id": "mWRK4z1yl9-X"
      },
      "id": "mWRK4z1yl9-X"
    },
    {
      "cell_type": "code",
      "source": [
        "%%sql\n",
        "SELECT nombre AS nombre_barco, cuota\n",
        "FROM Barcos\n",
        "WHERE id_socio = (\n",
        "    SELECT id_socio\n",
        "    FROM Socios\n",
        "    WHERE nombre = 'Juan Pérez'\n",
        ");\n"
      ],
      "metadata": {
        "id": "cZyf9vCpmE-G",
        "colab": {
          "base_uri": "https://localhost:8080/",
          "height": 96
        },
        "outputId": "d1f76537-8c5b-4840-c453-434e6af9cabf"
      },
      "id": "cZyf9vCpmE-G",
      "execution_count": 53,
      "outputs": [
        {
          "output_type": "stream",
          "name": "stdout",
          "text": [
            " * sqlite:///ejemplos.db\n",
            "Done.\n"
          ]
        },
        {
          "output_type": "execute_result",
          "data": {
            "text/plain": [
              "[('El Viento', 600.5)]"
            ],
            "text/html": [
              "<table>\n",
              "    <thead>\n",
              "        <tr>\n",
              "            <th>nombre_barco</th>\n",
              "            <th>cuota</th>\n",
              "        </tr>\n",
              "    </thead>\n",
              "    <tbody>\n",
              "        <tr>\n",
              "            <td>El Viento</td>\n",
              "            <td>600.5</td>\n",
              "        </tr>\n",
              "    </tbody>\n",
              "</table>"
            ]
          },
          "metadata": {},
          "execution_count": 53
        }
      ]
    },
    {
      "cell_type": "markdown",
      "source": [
        "3. ¿Cuántas salidas ha realizado el barco con matrícula 'ABC123'?"
      ],
      "metadata": {
        "id": "pbpnGkeFmPkq"
      },
      "id": "pbpnGkeFmPkq"
    },
    {
      "cell_type": "code",
      "source": [
        "%%sql\n",
        "SELECT COUNT(*) AS fecha_de_salida\n",
        "FROM salidas\n",
        "WHERE matricula = 'ABC123';\n"
      ],
      "metadata": {
        "id": "nuj5n3DZmS3N",
        "colab": {
          "base_uri": "https://localhost:8080/",
          "height": 96
        },
        "outputId": "fafde902-3e97-4a8c-b1b6-28bef3149921"
      },
      "id": "nuj5n3DZmS3N",
      "execution_count": null,
      "outputs": [
        {
          "output_type": "stream",
          "name": "stdout",
          "text": [
            " * sqlite:///ejemplos.db\n",
            "Done.\n"
          ]
        },
        {
          "output_type": "execute_result",
          "data": {
            "text/plain": [
              "[(1,)]"
            ],
            "text/html": [
              "<table>\n",
              "    <thead>\n",
              "        <tr>\n",
              "            <th>fecha_de_salida</th>\n",
              "        </tr>\n",
              "    </thead>\n",
              "    <tbody>\n",
              "        <tr>\n",
              "            <td>1</td>\n",
              "        </tr>\n",
              "    </tbody>\n",
              "</table>"
            ]
          },
          "metadata": {},
          "execution_count": 15
        }
      ]
    },
    {
      "cell_type": "markdown",
      "source": [
        ":4. Lista los barcos que tienen una cuota mayor a 500 y sus respectivos socios."
      ],
      "metadata": {
        "id": "GgyZ5pjymbXx"
      },
      "id": "GgyZ5pjymbXx"
    },
    {
      "cell_type": "code",
      "source": [
        "%%sql\n",
        "SELECT nombre AS nombre_barco,\n",
        "       (SELECT nombre\n",
        "        FROM Socios\n",
        "        WHERE Socios.id_socio = Barcos.id_socio) AS nombre_socio\n",
        "FROM Barcos\n",
        "WHERE cuota > 500;\n"
      ],
      "metadata": {
        "id": "szEj8t7WmcpA",
        "colab": {
          "base_uri": "https://localhost:8080/",
          "height": 225
        },
        "outputId": "23c72f77-860d-4aa9-9f2f-3f949b0d3d1a"
      },
      "id": "szEj8t7WmcpA",
      "execution_count": null,
      "outputs": [
        {
          "output_type": "stream",
          "name": "stdout",
          "text": [
            " * sqlite:///ejemplos.db\n",
            "Done.\n"
          ]
        },
        {
          "output_type": "execute_result",
          "data": {
            "text/plain": [
              "[('El Viento', 'Juan Pérez'),\n",
              " ('El Sol', 'Luis Fernández'),\n",
              " ('El Mar', 'Laura Sánchez'),\n",
              " ('La Luna', 'Carlos López'),\n",
              " ('El Horizonte', 'Marta Díaz'),\n",
              " ('La Estrella', 'Lucía Jiménez'),\n",
              " ('El Océano', 'Fernando Martín')]"
            ],
            "text/html": [
              "<table>\n",
              "    <thead>\n",
              "        <tr>\n",
              "            <th>nombre_barco</th>\n",
              "            <th>nombre_socio</th>\n",
              "        </tr>\n",
              "    </thead>\n",
              "    <tbody>\n",
              "        <tr>\n",
              "            <td>El Viento</td>\n",
              "            <td>Juan Pérez</td>\n",
              "        </tr>\n",
              "        <tr>\n",
              "            <td>El Sol</td>\n",
              "            <td>Luis Fernández</td>\n",
              "        </tr>\n",
              "        <tr>\n",
              "            <td>El Mar</td>\n",
              "            <td>Laura Sánchez</td>\n",
              "        </tr>\n",
              "        <tr>\n",
              "            <td>La Luna</td>\n",
              "            <td>Carlos López</td>\n",
              "        </tr>\n",
              "        <tr>\n",
              "            <td>El Horizonte</td>\n",
              "            <td>Marta Díaz</td>\n",
              "        </tr>\n",
              "        <tr>\n",
              "            <td>La Estrella</td>\n",
              "            <td>Lucía Jiménez</td>\n",
              "        </tr>\n",
              "        <tr>\n",
              "            <td>El Océano</td>\n",
              "            <td>Fernando Martín</td>\n",
              "        </tr>\n",
              "    </tbody>\n",
              "</table>"
            ]
          },
          "metadata": {},
          "execution_count": 27
        }
      ]
    },
    {
      "cell_type": "markdown",
      "source": [],
      "metadata": {
        "id": "BuvaT17Xlbe_"
      },
      "id": "BuvaT17Xlbe_"
    },
    {
      "cell_type": "markdown",
      "source": [
        "5. ¿Qué barcos han salido con destino a 'Mallorca'?"
      ],
      "metadata": {
        "id": "pTl4-C4ymjpp"
      },
      "id": "pTl4-C4ymjpp"
    },
    {
      "cell_type": "code",
      "source": [
        "%%sql\n",
        "SELECT nombre AS nombre_barco\n",
        "FROM Barcos\n",
        "WHERE matricula IN (\n",
        "    SELECT matricula\n",
        "    FROM Salidas\n",
        "    WHERE destino = 'Mallorca'\n",
        ");\n"
      ],
      "metadata": {
        "id": "tzlnW9Etmo8L",
        "colab": {
          "base_uri": "https://localhost:8080/",
          "height": 139
        },
        "outputId": "e5687418-ed10-4210-a304-c5444a5a7f3d"
      },
      "id": "tzlnW9Etmo8L",
      "execution_count": null,
      "outputs": [
        {
          "output_type": "stream",
          "name": "stdout",
          "text": [
            " * sqlite:///ejemplos.db\n",
            "Done.\n"
          ]
        },
        {
          "output_type": "execute_result",
          "data": {
            "text/plain": [
              "[('El Viento',), ('El Mar',), ('El Horizonte',)]"
            ],
            "text/html": [
              "<table>\n",
              "    <thead>\n",
              "        <tr>\n",
              "            <th>nombre_barco</th>\n",
              "        </tr>\n",
              "    </thead>\n",
              "    <tbody>\n",
              "        <tr>\n",
              "            <td>El Viento</td>\n",
              "        </tr>\n",
              "        <tr>\n",
              "            <td>El Mar</td>\n",
              "        </tr>\n",
              "        <tr>\n",
              "            <td>El Horizonte</td>\n",
              "        </tr>\n",
              "    </tbody>\n",
              "</table>"
            ]
          },
          "metadata": {},
          "execution_count": 26
        }
      ]
    },
    {
      "cell_type": "markdown",
      "source": [
        "6. ¿Qué patrones (nombre y dirección) han llevado un barco cuyo socio vive en 'Barcelona'?"
      ],
      "metadata": {
        "id": "GsLPyY6WmtEn"
      },
      "id": "GsLPyY6WmtEn"
    },
    {
      "cell_type": "code",
      "source": [
        "%%sql\n",
        "SELECT DISTINCT Salidas.patron_nombre, Salidas.patron_direccion\n",
        "FROM Salidas\n",
        "WHERE Salidas.matricula IN (\n",
        "    SELECT Barcos.matricula\n",
        "    FROM Barcos\n",
        "    WHERE Barcos.id_socio IN (\n",
        "        SELECT Socios.id_socio\n",
        "        FROM Socios\n",
        "        WHERE Socios.direccion LIKE '%Barcelona%'\n",
        "    )\n",
        ");\n"
      ],
      "metadata": {
        "id": "AZJDPqvbmvOK",
        "colab": {
          "base_uri": "https://localhost:8080/",
          "height": 96
        },
        "outputId": "ead4b9a4-333d-44f3-b42e-9e8799e6893a"
      },
      "id": "AZJDPqvbmvOK",
      "execution_count": null,
      "outputs": [
        {
          "output_type": "stream",
          "name": "stdout",
          "text": [
            " * sqlite:///ejemplos.db\n",
            "Done.\n"
          ]
        },
        {
          "output_type": "execute_result",
          "data": {
            "text/plain": [
              "[('Patrón 2', 'Avenida del Puerto 3, Valencia')]"
            ],
            "text/html": [
              "<table>\n",
              "    <thead>\n",
              "        <tr>\n",
              "            <th>patron_nombre</th>\n",
              "            <th>patron_direccion</th>\n",
              "        </tr>\n",
              "    </thead>\n",
              "    <tbody>\n",
              "        <tr>\n",
              "            <td>Patrón 2</td>\n",
              "            <td>Avenida del Puerto 3, Valencia</td>\n",
              "        </tr>\n",
              "    </tbody>\n",
              "</table>"
            ]
          },
          "metadata": {},
          "execution_count": 25
        }
      ]
    },
    {
      "cell_type": "markdown",
      "source": [
        "### Repetir los incisos usando JOIN\n",
        "1. ¿Qué socios tienen barcos amarrados en un número de amarre mayor que 10?"
      ],
      "metadata": {
        "id": "ox9iE2T6j6Qe"
      },
      "id": "ox9iE2T6j6Qe"
    },
    {
      "cell_type": "code",
      "source": [
        "%%sql\n",
        "SELECT Socios.nombre AS nombre_socio\n",
        "FROM Socios\n",
        "JOIN Barcos ON Socios.id_socio = Barcos.id_socio\n",
        "WHERE Barcos.numero_amarre > 10;"
      ],
      "metadata": {
        "id": "GLzT8mCxALp4",
        "colab": {
          "base_uri": "https://localhost:8080/",
          "height": 182
        },
        "outputId": "0703bf0d-34bb-4bef-8bf0-9d63da459d04"
      },
      "id": "GLzT8mCxALp4",
      "execution_count": null,
      "outputs": [
        {
          "output_type": "stream",
          "name": "stdout",
          "text": [
            " * sqlite:///ejemplos.db\n",
            "Done.\n"
          ]
        },
        {
          "output_type": "execute_result",
          "data": {
            "text/plain": [
              "[('Juan Pérez',),\n",
              " ('Luis Fernández',),\n",
              " ('Carlos López',),\n",
              " ('Marta Díaz',),\n",
              " ('María Torres',)]"
            ],
            "text/html": [
              "<table>\n",
              "    <thead>\n",
              "        <tr>\n",
              "            <th>nombre_socio</th>\n",
              "        </tr>\n",
              "    </thead>\n",
              "    <tbody>\n",
              "        <tr>\n",
              "            <td>Juan Pérez</td>\n",
              "        </tr>\n",
              "        <tr>\n",
              "            <td>Luis Fernández</td>\n",
              "        </tr>\n",
              "        <tr>\n",
              "            <td>Carlos López</td>\n",
              "        </tr>\n",
              "        <tr>\n",
              "            <td>Marta Díaz</td>\n",
              "        </tr>\n",
              "        <tr>\n",
              "            <td>María Torres</td>\n",
              "        </tr>\n",
              "    </tbody>\n",
              "</table>"
            ]
          },
          "metadata": {},
          "execution_count": 21
        }
      ]
    },
    {
      "cell_type": "markdown",
      "source": [
        "2. ¿Cuáles son los nombres de los barcos y sus cuotas de aquellos barcos cuyo socio se llama 'Juan Pérez'?"
      ],
      "metadata": {
        "id": "mJJkAhkVAw4N"
      },
      "id": "mJJkAhkVAw4N"
    },
    {
      "cell_type": "code",
      "source": [
        "%%sql\n",
        "SELECT Barcos.nombre AS nombre_barco, Barcos.cuota\n",
        "FROM Barcos\n",
        "JOIN Socios ON Barcos.id_socio = Socios.id_socio\n",
        "WHERE Socios.nombre = 'Juan Pérez';"
      ],
      "metadata": {
        "id": "PnZz1YO8A-tk",
        "colab": {
          "base_uri": "https://localhost:8080/",
          "height": 96
        },
        "outputId": "23b25503-a7d4-4a09-d837-780d135bc08f"
      },
      "id": "PnZz1YO8A-tk",
      "execution_count": null,
      "outputs": [
        {
          "output_type": "stream",
          "name": "stdout",
          "text": [
            " * sqlite:///ejemplos.db\n",
            "Done.\n"
          ]
        },
        {
          "output_type": "execute_result",
          "data": {
            "text/plain": [
              "[('El Viento', 600.5)]"
            ],
            "text/html": [
              "<table>\n",
              "    <thead>\n",
              "        <tr>\n",
              "            <th>nombre_barco</th>\n",
              "            <th>cuota</th>\n",
              "        </tr>\n",
              "    </thead>\n",
              "    <tbody>\n",
              "        <tr>\n",
              "            <td>El Viento</td>\n",
              "            <td>600.5</td>\n",
              "        </tr>\n",
              "    </tbody>\n",
              "</table>"
            ]
          },
          "metadata": {},
          "execution_count": 22
        }
      ]
    },
    {
      "cell_type": "markdown",
      "source": [
        "3. ¿Cuántas salidas ha realizado el barco con matrícula 'ABC123'?"
      ],
      "metadata": {
        "id": "yk0e4EqFA2Wi"
      },
      "id": "yk0e4EqFA2Wi"
    },
    {
      "cell_type": "code",
      "source": [
        "%%sql\n",
        "SELECT COUNT(*) AS numero_salidas\n",
        "FROM Salidas\n",
        "JOIN Barcos ON Salidas.matricula = Barcos.matricula\n",
        "WHERE Barcos.matricula = 'ABC123';"
      ],
      "metadata": {
        "id": "DnZcgiyAA7IX",
        "colab": {
          "base_uri": "https://localhost:8080/",
          "height": 96
        },
        "outputId": "d2e88aff-e652-4c8a-acea-bc40c2c1892b"
      },
      "id": "DnZcgiyAA7IX",
      "execution_count": 54,
      "outputs": [
        {
          "output_type": "stream",
          "name": "stdout",
          "text": [
            " * sqlite:///ejemplos.db\n",
            "Done.\n"
          ]
        },
        {
          "output_type": "execute_result",
          "data": {
            "text/plain": [
              "[(1,)]"
            ],
            "text/html": [
              "<table>\n",
              "    <thead>\n",
              "        <tr>\n",
              "            <th>numero_salidas</th>\n",
              "        </tr>\n",
              "    </thead>\n",
              "    <tbody>\n",
              "        <tr>\n",
              "            <td>1</td>\n",
              "        </tr>\n",
              "    </tbody>\n",
              "</table>"
            ]
          },
          "metadata": {},
          "execution_count": 54
        }
      ]
    },
    {
      "cell_type": "markdown",
      "source": [
        "4. Lista los barcos que tienen una cuota mayor a 500 y sus respectivos socios."
      ],
      "metadata": {
        "id": "Qeloyr4lBBNt"
      },
      "id": "Qeloyr4lBBNt"
    },
    {
      "cell_type": "code",
      "source": [
        "%%sql\n",
        "SELECT Barcos.nombre AS nombre_barco, Socios.nombre AS nombre_socio\n",
        "FROM Barcos\n",
        "JOIN Socios ON Barcos.id_socio = Socios.id_socio\n",
        "WHERE Barcos.cuota > 500;"
      ],
      "metadata": {
        "id": "nfsIe3C3BCkR",
        "colab": {
          "base_uri": "https://localhost:8080/",
          "height": 225
        },
        "outputId": "808d8549-d57f-44b4-b4f0-957972a70c3d"
      },
      "id": "nfsIe3C3BCkR",
      "execution_count": 55,
      "outputs": [
        {
          "output_type": "stream",
          "name": "stdout",
          "text": [
            " * sqlite:///ejemplos.db\n",
            "Done.\n"
          ]
        },
        {
          "output_type": "execute_result",
          "data": {
            "text/plain": [
              "[('El Viento', 'Juan Pérez'),\n",
              " ('El Sol', 'Luis Fernández'),\n",
              " ('El Mar', 'Laura Sánchez'),\n",
              " ('La Luna', 'Carlos López'),\n",
              " ('El Horizonte', 'Marta Díaz'),\n",
              " ('La Estrella', 'Lucía Jiménez'),\n",
              " ('El Océano', 'Fernando Martín')]"
            ],
            "text/html": [
              "<table>\n",
              "    <thead>\n",
              "        <tr>\n",
              "            <th>nombre_barco</th>\n",
              "            <th>nombre_socio</th>\n",
              "        </tr>\n",
              "    </thead>\n",
              "    <tbody>\n",
              "        <tr>\n",
              "            <td>El Viento</td>\n",
              "            <td>Juan Pérez</td>\n",
              "        </tr>\n",
              "        <tr>\n",
              "            <td>El Sol</td>\n",
              "            <td>Luis Fernández</td>\n",
              "        </tr>\n",
              "        <tr>\n",
              "            <td>El Mar</td>\n",
              "            <td>Laura Sánchez</td>\n",
              "        </tr>\n",
              "        <tr>\n",
              "            <td>La Luna</td>\n",
              "            <td>Carlos López</td>\n",
              "        </tr>\n",
              "        <tr>\n",
              "            <td>El Horizonte</td>\n",
              "            <td>Marta Díaz</td>\n",
              "        </tr>\n",
              "        <tr>\n",
              "            <td>La Estrella</td>\n",
              "            <td>Lucía Jiménez</td>\n",
              "        </tr>\n",
              "        <tr>\n",
              "            <td>El Océano</td>\n",
              "            <td>Fernando Martín</td>\n",
              "        </tr>\n",
              "    </tbody>\n",
              "</table>"
            ]
          },
          "metadata": {},
          "execution_count": 55
        }
      ]
    },
    {
      "cell_type": "markdown",
      "source": [
        "5. ¿Qué barcos han salido con destino a 'Mallorca'?"
      ],
      "metadata": {
        "id": "GMqo1KlDBFwm"
      },
      "id": "GMqo1KlDBFwm"
    },
    {
      "cell_type": "code",
      "source": [
        "%%sql\n",
        "SELECT Barcos.nombre AS nombre_barco\n",
        "FROM Barcos\n",
        "JOIN Salidas ON Barcos.matricula = Salidas.matricula\n",
        "WHERE Salidas.destino= 'Mallorca';"
      ],
      "metadata": {
        "id": "etjf3fFgBFd-",
        "colab": {
          "base_uri": "https://localhost:8080/",
          "height": 139
        },
        "outputId": "9590a80c-0d13-4076-8a56-3a086ff472ac"
      },
      "id": "etjf3fFgBFd-",
      "execution_count": null,
      "outputs": [
        {
          "output_type": "stream",
          "name": "stdout",
          "text": [
            " * sqlite:///ejemplos.db\n",
            "Done.\n"
          ]
        },
        {
          "output_type": "execute_result",
          "data": {
            "text/plain": [
              "[('El Viento',), ('El Mar',), ('El Horizonte',)]"
            ],
            "text/html": [
              "<table>\n",
              "    <thead>\n",
              "        <tr>\n",
              "            <th>nombre_barco</th>\n",
              "        </tr>\n",
              "    </thead>\n",
              "    <tbody>\n",
              "        <tr>\n",
              "            <td>El Viento</td>\n",
              "        </tr>\n",
              "        <tr>\n",
              "            <td>El Mar</td>\n",
              "        </tr>\n",
              "        <tr>\n",
              "            <td>El Horizonte</td>\n",
              "        </tr>\n",
              "    </tbody>\n",
              "</table>"
            ]
          },
          "metadata": {},
          "execution_count": 33
        }
      ]
    },
    {
      "cell_type": "markdown",
      "source": [
        "6. ¿Qué patrones (nombre y dirección) han llevado un barco cuyo socio vive en 'Barcelona'?"
      ],
      "metadata": {
        "id": "4rDZTOCSBJQJ"
      },
      "id": "4rDZTOCSBJQJ"
    },
    {
      "cell_type": "code",
      "source": [
        "%%sql\n",
        "SELECT DISTINCT salidas.patron_nombre, Salidas.patron_direccion\n",
        "FROM Salidas\n",
        "JOIN Barcos ON Salidas.matricula = Barcos.matricula\n",
        "JOIN Socios ON Barcos.id_socio = Socios.id_socio\n",
        "WHERE Socios.direccion LIKE '%Barcelona%';"
      ],
      "metadata": {
        "id": "s6MRh7hHBKMb",
        "colab": {
          "base_uri": "https://localhost:8080/",
          "height": 96
        },
        "outputId": "57042e7d-06d3-4586-a2d1-20272f079909"
      },
      "id": "s6MRh7hHBKMb",
      "execution_count": null,
      "outputs": [
        {
          "output_type": "stream",
          "name": "stdout",
          "text": [
            " * sqlite:///ejemplos.db\n",
            "Done.\n"
          ]
        },
        {
          "output_type": "execute_result",
          "data": {
            "text/plain": [
              "[('Patrón 2', 'Avenida del Puerto 3, Valencia')]"
            ],
            "text/html": [
              "<table>\n",
              "    <thead>\n",
              "        <tr>\n",
              "            <th>patron_nombre</th>\n",
              "            <th>patron_direccion</th>\n",
              "        </tr>\n",
              "    </thead>\n",
              "    <tbody>\n",
              "        <tr>\n",
              "            <td>Patrón 2</td>\n",
              "            <td>Avenida del Puerto 3, Valencia</td>\n",
              "        </tr>\n",
              "    </tbody>\n",
              "</table>"
            ]
          },
          "metadata": {},
          "execution_count": 36
        }
      ]
    },
    {
      "cell_type": "markdown",
      "id": "d3111595",
      "metadata": {
        "id": "d3111595"
      },
      "source": [
        "\n",
        "## EJERCICIO 2: Base de datos para un gabinete de abogados\n",
        "\n",
        "### Descripción:\n",
        "Se quiere diseñar una base de datos relacional para almacenar información sobre los asuntos que lleva un gabinete de abogados. Cada asunto tiene un número de expediente que lo identifica y corresponde a un solo cliente. Del asunto se debe almacenar:\n",
        "- Período (fecha de inicio y fecha de archivo o finalización)\n",
        "- Estado (en trámite, archivado, etc.)\n",
        "- Datos personales del cliente (DNI, nombre, dirección, etc.)\n",
        "\n",
        "Algunos asuntos son llevados por uno o varios procuradores, de los que nos interesa también almacenar los datos personales.\n",
        "\n",
        "### Esquema propuesto:\n",
        "- Tabla `Clientes`: Almacena la información de los clientes: dni (clave primaria), nombre y dirección.\n",
        "- Tabla `Asuntos`: Almacena la información de los asuntos: numero de expediente (clave primaria), dni del cliente (clave externa), fecha de inicio, fecha de fin y estado (Abierto o Cerrado). Si el asunto está abierto, no tiene fecha de fin.\n",
        "- Tabla `Procuradores`: Almacena la información de los procuradores: id del procurador (clave priaria), nombre y dirección.\n",
        "- Tabla `Asuntos_Procuradores`: Relaciona los asuntos con los procuradores (muchos a muchos).\n",
        "\n",
        "### SQL para crear las tablas:\n"
      ]
    },
    {
      "cell_type": "code",
      "source": [
        "%%sql\n",
        "CREATE TABLE Clientes (\n",
        "  dni VARCHAR(20) PRIMARY KEY,\n",
        "  nombre VARCHAR(100) NOT NULL,\n",
        "  direccion VARCHAR(255) NOT NULL\n",
        ");\n",
        "CREATE TABLE Asuntos (\n",
        "  numero_expediente INTEGER PRIMARY KEY,\n",
        "  dni_cliente VARCHAR(20),\n",
        "  fecha_inicio DATE NOT NULL,\n",
        "  fecha_fin DATE,\n",
        "  estado VARCHAR(20) NOT NULL,\n",
        "  FOREIGN KEY (dni_cliente) REFERENCES Clientes(dni)\n",
        ");\n",
        "CREATE TABLE Procuradores (\n",
        "  id_procurador INTEGER PRIMARY KEY,\n",
        "  nombre VARCHAR(100) NOT NULL,\n",
        "  direccion VARCHAR(255) NOT NULL\n",
        ");\n",
        "CREATE TABLE Asuntos_Procuradores (\n",
        "  numero_expediente INTEGER,\n",
        "  id_procurador INTEGER,\n",
        "  PRIMARY KEY (numero_expediente, id_procurador),\n",
        "  FOREIGN KEY (numero_expediente) REFERENCES Asuntos(numero_expediente),\n",
        "  FOREIGN KEY (id_procurador) REFERENCES Procuradores(id_procurador)\n",
        ");\n",
        "\n",
        "\n"
      ],
      "metadata": {
        "id": "QtKIwysZeNtz",
        "colab": {
          "base_uri": "https://localhost:8080/"
        },
        "outputId": "f3b33c56-7c1a-4aa7-edcb-1e3abad7ed51"
      },
      "id": "QtKIwysZeNtz",
      "execution_count": 56,
      "outputs": [
        {
          "output_type": "stream",
          "name": "stdout",
          "text": [
            " * sqlite:///ejemplos.db\n",
            "(sqlite3.OperationalError) table Clientes already exists\n",
            "[SQL: CREATE TABLE Clientes (\n",
            "  dni VARCHAR(20) PRIMARY KEY,\n",
            "  nombre VARCHAR(100) NOT NULL,\n",
            "  direccion VARCHAR(255) NOT NULL\n",
            ");]\n",
            "(Background on this error at: https://sqlalche.me/e/20/e3q8)\n"
          ]
        }
      ]
    },
    {
      "cell_type": "markdown",
      "source": [],
      "metadata": {
        "id": "Yhom8Hjlesap"
      },
      "id": "Yhom8Hjlesap"
    },
    {
      "cell_type": "code",
      "source": [
        "%%sql\n",
        "-- Poblar la tabla Clientes\n",
        "INSERT INTO Clientes (dni, nombre, direccion)\n",
        "VALUES\n",
        "('123456789', 'Juan Pérez', 'Calle Pueyrredón 3498, Buenos Aires'),\n",
        "('987654321', 'Ana García', 'Calle 5 323, La Plata'),\n",
        "('456123789', 'Luis Fernández', 'Avenida de Gral. Paz 1056, Bahía Blanca');\n",
        "\n",
        "-- Poblar la tabla Asuntos\n",
        "INSERT INTO Asuntos (numero_expediente, dni_cliente, fecha_inicio, fecha_fin, estado)\n",
        "VALUES\n",
        "(1, '123456789', '2023-01-15', '2023-07-20', 'Cerrado'),\n",
        "(2, '987654321', '2023-05-10', NULL, 'Abierto'),\n",
        "(3, '456123789', '2023-06-01', '2023-09-10', 'Cerrado');\n",
        "\n",
        "-- Poblar la tabla Procuradores\n",
        "INSERT INTO Procuradores (id_procurador, nombre, direccion)\n",
        "VALUES\n",
        "(1, 'Laura Sánchez', 'Calle Soler 3765, Buenos Aires'),\n",
        "(2, 'Carlos López', 'Calle Estrellas 8, Mar del Plata'),\n",
        "(3, 'Marta Díaz', 'Calle Estación 12, Olavarria');\n",
        "\n",
        "-- Poblar la tabla Asuntos_Procuradores\n",
        "INSERT INTO Asuntos_Procuradores (numero_expediente, id_procurador)\n",
        "VALUES\n",
        "(1, 1),\n",
        "(2, 2),\n",
        "(3, 3),\n",
        "(2, 1);  -- Un asunto puede tener varios procuradores"
      ],
      "metadata": {
        "id": "5o4a19qHetVz",
        "colab": {
          "base_uri": "https://localhost:8080/"
        },
        "outputId": "91c6afdb-b948-429f-cff2-b87597335317"
      },
      "id": "5o4a19qHetVz",
      "execution_count": 57,
      "outputs": [
        {
          "output_type": "stream",
          "name": "stdout",
          "text": [
            " * sqlite:///ejemplos.db\n",
            "(sqlite3.IntegrityError) UNIQUE constraint failed: Clientes.dni\n",
            "[SQL: -- Poblar la tabla Clientes\n",
            "INSERT INTO Clientes (dni, nombre, direccion)\n",
            "VALUES\n",
            "('123456789', 'Juan Pérez', 'Calle Pueyrredón 3498, Buenos Aires'),\n",
            "('987654321', 'Ana García', 'Calle 5 323, La Plata'),\n",
            "('456123789', 'Luis Fernández', 'Avenida de Gral. Paz 1056, Bahía Blanca');]\n",
            "(Background on this error at: https://sqlalche.me/e/20/gkpj)\n"
          ]
        }
      ]
    },
    {
      "cell_type": "markdown",
      "source": [
        "### Resolver estas consignas sin usar JOIN:\n",
        "1. ¿Cuál es el nombre y la dirección de los procuradores que han trabajado en un asunto abierto?"
      ],
      "metadata": {
        "id": "OvOaPQYTgkBJ"
      },
      "id": "OvOaPQYTgkBJ"
    },
    {
      "cell_type": "code",
      "source": [
        "%%sql\n",
        "SELECT nombre, direccion\n",
        "FROM Procuradores\n",
        "WHERE id_procurador IN (\n",
        "    SELECT id_procurador\n",
        "    FROM Asuntos_Procuradores\n",
        "    WHERE numero_expediente IN (\n",
        "        SELECT numero_expediente\n",
        "        FROM Asuntos\n",
        "        WHERE estado = 'Abierto'\n",
        "    )\n",
        ");\n",
        "\n"
      ],
      "metadata": {
        "id": "ZO891c6ZgrZm",
        "colab": {
          "base_uri": "https://localhost:8080/",
          "height": 118
        },
        "outputId": "115176e8-59ad-45a7-87ba-93066617a0a9"
      },
      "id": "ZO891c6ZgrZm",
      "execution_count": 58,
      "outputs": [
        {
          "output_type": "stream",
          "name": "stdout",
          "text": [
            " * sqlite:///ejemplos.db\n",
            "Done.\n"
          ]
        },
        {
          "output_type": "execute_result",
          "data": {
            "text/plain": [
              "[('Laura Sánchez', 'Calle Soler 3765, Buenos Aires'),\n",
              " ('Carlos López', 'Calle Estrellas 8, Mar del Plata')]"
            ],
            "text/html": [
              "<table>\n",
              "    <thead>\n",
              "        <tr>\n",
              "            <th>nombre</th>\n",
              "            <th>direccion</th>\n",
              "        </tr>\n",
              "    </thead>\n",
              "    <tbody>\n",
              "        <tr>\n",
              "            <td>Laura Sánchez</td>\n",
              "            <td>Calle Soler 3765, Buenos Aires</td>\n",
              "        </tr>\n",
              "        <tr>\n",
              "            <td>Carlos López</td>\n",
              "            <td>Calle Estrellas 8, Mar del Plata</td>\n",
              "        </tr>\n",
              "    </tbody>\n",
              "</table>"
            ]
          },
          "metadata": {},
          "execution_count": 58
        }
      ]
    },
    {
      "cell_type": "markdown",
      "source": [
        "2. ¿Qué clientes han tenido asuntos en los que ha participado el procurador Carlos López?"
      ],
      "metadata": {
        "id": "Y5qojbXWg9mh"
      },
      "id": "Y5qojbXWg9mh"
    },
    {
      "cell_type": "code",
      "source": [
        "%%sql\n",
        "SELECT Clientes.nombre, Clientes.direccion\n",
        "FROM Clientes\n",
        "WHERE Clientes.dni IN (\n",
        "    SELECT dni_cliente\n",
        "    FROM Asuntos\n",
        "    WHERE numero_expediente IN (\n",
        "        SELECT numero_expediente\n",
        "        FROM Asuntos_Procuradores\n",
        "        WHERE id_procurador IN (\n",
        "            SELECT id_procurador\n",
        "            FROM Procuradores\n",
        "            WHERE nombre = 'Carlos López'\n",
        "        )\n",
        "    )\n",
        ");\n",
        "\n",
        "\n"
      ],
      "metadata": {
        "id": "JlQjPghDhBrj",
        "colab": {
          "base_uri": "https://localhost:8080/",
          "height": 96
        },
        "outputId": "f9491fe2-095e-487a-f06b-e180476b1b74"
      },
      "id": "JlQjPghDhBrj",
      "execution_count": 59,
      "outputs": [
        {
          "output_type": "stream",
          "name": "stdout",
          "text": [
            " * sqlite:///ejemplos.db\n",
            "Done.\n"
          ]
        },
        {
          "output_type": "execute_result",
          "data": {
            "text/plain": [
              "[('Ana García', 'Calle 5 323, La Plata')]"
            ],
            "text/html": [
              "<table>\n",
              "    <thead>\n",
              "        <tr>\n",
              "            <th>nombre</th>\n",
              "            <th>direccion</th>\n",
              "        </tr>\n",
              "    </thead>\n",
              "    <tbody>\n",
              "        <tr>\n",
              "            <td>Ana García</td>\n",
              "            <td>Calle 5 323, La Plata</td>\n",
              "        </tr>\n",
              "    </tbody>\n",
              "</table>"
            ]
          },
          "metadata": {},
          "execution_count": 59
        }
      ]
    },
    {
      "cell_type": "markdown",
      "source": [
        "3. ¿Cuántos asuntos ha gestionado cada procurador?"
      ],
      "metadata": {
        "id": "1NfxB7M6hKsX"
      },
      "id": "1NfxB7M6hKsX"
    },
    {
      "cell_type": "code",
      "source": [
        "%%sql\n",
        "SELECT p.nombre AS nombre_procurador, COUNT(ap.numero_expediente) AS numero_asuntos\n",
        "FROM Procuradores p\n",
        "LEFT JOIN Asuntos_Procuradores ap ON p.id_procurador = ap.id_procurador\n",
        "GROUP BY p.nombre;\n",
        "\n"
      ],
      "metadata": {
        "id": "kZHFCFX0hS5-",
        "colab": {
          "base_uri": "https://localhost:8080/",
          "height": 139
        },
        "outputId": "7556b2b0-dd87-45c9-92fc-3d38453cfd1e"
      },
      "id": "kZHFCFX0hS5-",
      "execution_count": null,
      "outputs": [
        {
          "output_type": "stream",
          "name": "stdout",
          "text": [
            " * sqlite:///ejemplos.db\n",
            "Done.\n"
          ]
        },
        {
          "output_type": "execute_result",
          "data": {
            "text/plain": [
              "[('Carlos López', 1), ('Laura Sánchez', 2), ('Marta Díaz', 1)]"
            ],
            "text/html": [
              "<table>\n",
              "    <thead>\n",
              "        <tr>\n",
              "            <th>nombre_procurador</th>\n",
              "            <th>numero_asuntos</th>\n",
              "        </tr>\n",
              "    </thead>\n",
              "    <tbody>\n",
              "        <tr>\n",
              "            <td>Carlos López</td>\n",
              "            <td>1</td>\n",
              "        </tr>\n",
              "        <tr>\n",
              "            <td>Laura Sánchez</td>\n",
              "            <td>2</td>\n",
              "        </tr>\n",
              "        <tr>\n",
              "            <td>Marta Díaz</td>\n",
              "            <td>1</td>\n",
              "        </tr>\n",
              "    </tbody>\n",
              "</table>"
            ]
          },
          "metadata": {},
          "execution_count": 47
        }
      ]
    },
    {
      "cell_type": "markdown",
      "source": [
        "4. Lista los números de expediente y fechas de inicio de los asuntos de los clientes que viven en Buenos Aires."
      ],
      "metadata": {
        "id": "zHUFuerKhjc2"
      },
      "id": "zHUFuerKhjc2"
    },
    {
      "cell_type": "code",
      "source": [
        "%%sql\n",
        "SELECT A.numero_expediente, A.fecha_inicio\n",
        "FROM Asuntos A\n",
        "JOIN Clientes C ON A.dni_cliente = C.dni\n",
        "WHERE C.direccion LIKE '%Buenos Aires%';\n"
      ],
      "metadata": {
        "id": "9RDQt_5lipod",
        "colab": {
          "base_uri": "https://localhost:8080/",
          "height": 96
        },
        "outputId": "6495d615-2c0c-4948-8b12-b0618436713c"
      },
      "id": "9RDQt_5lipod",
      "execution_count": 60,
      "outputs": [
        {
          "output_type": "stream",
          "name": "stdout",
          "text": [
            " * sqlite:///ejemplos.db\n",
            "Done.\n"
          ]
        },
        {
          "output_type": "execute_result",
          "data": {
            "text/plain": [
              "[(1, '2023-01-15')]"
            ],
            "text/html": [
              "<table>\n",
              "    <thead>\n",
              "        <tr>\n",
              "            <th>numero_expediente</th>\n",
              "            <th>fecha_inicio</th>\n",
              "        </tr>\n",
              "    </thead>\n",
              "    <tbody>\n",
              "        <tr>\n",
              "            <td>1</td>\n",
              "            <td>2023-01-15</td>\n",
              "        </tr>\n",
              "    </tbody>\n",
              "</table>"
            ]
          },
          "metadata": {},
          "execution_count": 60
        }
      ]
    },
    {
      "cell_type": "markdown",
      "source": [
        "# Entrega\n",
        "La entrega consiste en completar esta hoja y subirla a su repositorio GIT\n",
        "Se deben entregar también los diagramas de esquema de tablas como imagenes aparte.\n",
        "Fecha límite: 30 de septiembre a las 23:59 hs"
      ],
      "metadata": {
        "id": "aIF74m2eV9J9"
      },
      "id": "aIF74m2eV9J9"
    }
  ],
  "metadata": {
    "colab": {
      "provenance": []
    },
    "language_info": {
      "name": "python"
    },
    "kernelspec": {
      "name": "python3",
      "display_name": "Python 3"
    }
  },
  "nbformat": 4,
  "nbformat_minor": 5
}